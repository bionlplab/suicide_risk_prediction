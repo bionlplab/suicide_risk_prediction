{
 "cells": [
  {
   "cell_type": "code",
   "execution_count": null,
   "id": "324a9288",
   "metadata": {},
   "outputs": [],
   "source": [
    "import pandas as pd\n",
    "import numpy as np\n",
    "df = pd.read_json('evaluate_on_leaderboard.json')\n",
    "labels = np.load(\"ensemble_1.npy\")\n",
    "df['suicide_risk'] = labels\n",
    "df.to_excel(\"BioNLP@WCM.xlsx\", index=False)"
   ]
  }
 ],
 "metadata": {
  "kernelspec": {
   "display_name": "Python 3",
   "language": "python",
   "name": "python3"
  },
  "language_info": {
   "codemirror_mode": {
    "name": "ipython",
    "version": 3
   },
   "file_extension": ".py",
   "mimetype": "text/x-python",
   "name": "python",
   "nbconvert_exporter": "python",
   "pygments_lexer": "ipython3",
   "version": "3.11.5"
  }
 },
 "nbformat": 4,
 "nbformat_minor": 5
}
